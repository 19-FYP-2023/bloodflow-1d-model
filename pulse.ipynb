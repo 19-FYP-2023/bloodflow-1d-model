{
 "cells": [
  {
   "cell_type": "code",
   "execution_count": null,
   "metadata": {},
   "outputs": [],
   "source": [
    "import sys\n",
    "import numpy as np\n",
    "\n",
    "from arteryfe.utils import *\n",
    "\n",
    "data_location = sys.argv[1]\n",
    "order, Nx, Nt, T0, T, L, rc, qc, rho, mesh_locations, names, locations = read_output(data_location)\n",
    "\n",
    "T0 = redimensionalise(rc, qc, rho, T0, 'time')\n",
    "T = redimensionalise(rc, qc, rho, T, 'time')\n",
    "\n",
    "t = np.linspace(T0, T, Nt)\n",
    "\n",
    "for i, name in enumerate(names):\n",
    "\n",
    "    for j in range(2**order-1):\n",
    "\n",
    "        M = XDMF_to_matrix(Nx, Nt, mesh_locations[j],\n",
    "            '%s/%s_%i.xdmf' % (locations[i], name, j), name)\n",
    "\n",
    "        M = redimensionalise(rc, qc, rho, M, name)\n",
    "\n",
    "        # Convert pressure units\n",
    "        if name == 'pressure':\n",
    "            M = unit_to_mmHg(M)\n",
    "\n",
    "        x = np.linspace(0, L[j], Nx+1)\n",
    "\n",
    "        print(\"Order :\", order)\n",
    "        print(\"shape M :\", M.shape())\n",
    "        print(\"shape x :\", x.shape())\n",
    "        print(\"shape t :\", t.shape())\n",
    "        print()\n",
    "\n",
    "        plot_matrix(t, x, M, name, '%s/%s_%i.png' % (locations[i], name, j))\n",
    "\n"
   ]
  }
 ],
 "metadata": {
  "language_info": {
   "name": "python"
  }
 },
 "nbformat": 4,
 "nbformat_minor": 2
}
